{
  "nbformat": 4,
  "nbformat_minor": 0,
  "metadata": {
    "language_info": {
      "codemirror_mode": {
        "name": "ipython",
        "version": 3
      },
      "file_extension": ".py",
      "mimetype": "text/x-python",
      "name": "python",
      "nbconvert_exporter": "python",
      "pygments_lexer": "ipython3",
      "version": "3.8.5-final"
    },
    "orig_nbformat": 2,
    "kernelspec": {
      "name": "python3",
      "display_name": "Python 3"
    },
    "colab": {
      "name": "MachineLearingModel.ipynb",
      "provenance": [],
      "collapsed_sections": []
    }
  },
  "cells": [
    {
      "cell_type": "markdown",
      "metadata": {
        "id": "kr6RnalCTDkj"
      },
      "source": [
        "# Importing Libraries"
      ]
    },
    {
      "cell_type": "code",
      "metadata": {
        "id": "Vmbxc8O6raph"
      },
      "source": [
        " import pandas as pd\n",
        "import numpy as np\n",
        "import matplotlib.pyplot as plt\n",
        "\n",
        "\n",
        "plt.style.use('ggplot')\n"
      ],
      "execution_count": 24,
      "outputs": []
    },
    {
      "cell_type": "markdown",
      "metadata": {
        "id": "rN6itrw5rapi"
      },
      "source": [
        "# Data Collecting"
      ]
    },
    {
      "cell_type": "code",
      "metadata": {
        "id": "p-HwjezVrapi"
      },
      "source": [
        "data = pd.read_csv('ipl.csv')\n"
      ],
      "execution_count": 25,
      "outputs": []
    },
    {
      "cell_type": "markdown",
      "metadata": {
        "id": "SAkVa50Zrapi"
      },
      "source": [
        "# Get Familiar with the Data"
      ]
    },
    {
      "cell_type": "code",
      "metadata": {
        "id": "mQ-pf6IRrapi",
        "colab": {
          "base_uri": "https://localhost:8080/",
          "height": 408
        },
        "outputId": "212ef60f-b002-498c-a0b0-1f4631ac2c76"
      },
      "source": [
        "data.head()"
      ],
      "execution_count": 26,
      "outputs": [
        {
          "output_type": "execute_result",
          "data": {
            "text/html": [
              "<div>\n",
              "<style scoped>\n",
              "    .dataframe tbody tr th:only-of-type {\n",
              "        vertical-align: middle;\n",
              "    }\n",
              "\n",
              "    .dataframe tbody tr th {\n",
              "        vertical-align: top;\n",
              "    }\n",
              "\n",
              "    .dataframe thead th {\n",
              "        text-align: right;\n",
              "    }\n",
              "</style>\n",
              "<table border=\"1\" class=\"dataframe\">\n",
              "  <thead>\n",
              "    <tr style=\"text-align: right;\">\n",
              "      <th></th>\n",
              "      <th>mid</th>\n",
              "      <th>date</th>\n",
              "      <th>venue</th>\n",
              "      <th>bat_team</th>\n",
              "      <th>bowl_team</th>\n",
              "      <th>batsman</th>\n",
              "      <th>bowler</th>\n",
              "      <th>runs</th>\n",
              "      <th>wickets</th>\n",
              "      <th>overs</th>\n",
              "      <th>runs_last_5</th>\n",
              "      <th>wickets_last_5</th>\n",
              "      <th>striker</th>\n",
              "      <th>non-striker</th>\n",
              "      <th>total</th>\n",
              "    </tr>\n",
              "  </thead>\n",
              "  <tbody>\n",
              "    <tr>\n",
              "      <th>0</th>\n",
              "      <td>1</td>\n",
              "      <td>2008-04-18</td>\n",
              "      <td>M Chinnaswamy Stadium</td>\n",
              "      <td>Kolkata Knight Riders</td>\n",
              "      <td>Royal Challengers Bangalore</td>\n",
              "      <td>SC Ganguly</td>\n",
              "      <td>P Kumar</td>\n",
              "      <td>1</td>\n",
              "      <td>0</td>\n",
              "      <td>0.1</td>\n",
              "      <td>1</td>\n",
              "      <td>0</td>\n",
              "      <td>0</td>\n",
              "      <td>0</td>\n",
              "      <td>222</td>\n",
              "    </tr>\n",
              "    <tr>\n",
              "      <th>1</th>\n",
              "      <td>1</td>\n",
              "      <td>2008-04-18</td>\n",
              "      <td>M Chinnaswamy Stadium</td>\n",
              "      <td>Kolkata Knight Riders</td>\n",
              "      <td>Royal Challengers Bangalore</td>\n",
              "      <td>BB McCullum</td>\n",
              "      <td>P Kumar</td>\n",
              "      <td>1</td>\n",
              "      <td>0</td>\n",
              "      <td>0.2</td>\n",
              "      <td>1</td>\n",
              "      <td>0</td>\n",
              "      <td>0</td>\n",
              "      <td>0</td>\n",
              "      <td>222</td>\n",
              "    </tr>\n",
              "    <tr>\n",
              "      <th>2</th>\n",
              "      <td>1</td>\n",
              "      <td>2008-04-18</td>\n",
              "      <td>M Chinnaswamy Stadium</td>\n",
              "      <td>Kolkata Knight Riders</td>\n",
              "      <td>Royal Challengers Bangalore</td>\n",
              "      <td>BB McCullum</td>\n",
              "      <td>P Kumar</td>\n",
              "      <td>2</td>\n",
              "      <td>0</td>\n",
              "      <td>0.2</td>\n",
              "      <td>2</td>\n",
              "      <td>0</td>\n",
              "      <td>0</td>\n",
              "      <td>0</td>\n",
              "      <td>222</td>\n",
              "    </tr>\n",
              "    <tr>\n",
              "      <th>3</th>\n",
              "      <td>1</td>\n",
              "      <td>2008-04-18</td>\n",
              "      <td>M Chinnaswamy Stadium</td>\n",
              "      <td>Kolkata Knight Riders</td>\n",
              "      <td>Royal Challengers Bangalore</td>\n",
              "      <td>BB McCullum</td>\n",
              "      <td>P Kumar</td>\n",
              "      <td>2</td>\n",
              "      <td>0</td>\n",
              "      <td>0.3</td>\n",
              "      <td>2</td>\n",
              "      <td>0</td>\n",
              "      <td>0</td>\n",
              "      <td>0</td>\n",
              "      <td>222</td>\n",
              "    </tr>\n",
              "    <tr>\n",
              "      <th>4</th>\n",
              "      <td>1</td>\n",
              "      <td>2008-04-18</td>\n",
              "      <td>M Chinnaswamy Stadium</td>\n",
              "      <td>Kolkata Knight Riders</td>\n",
              "      <td>Royal Challengers Bangalore</td>\n",
              "      <td>BB McCullum</td>\n",
              "      <td>P Kumar</td>\n",
              "      <td>2</td>\n",
              "      <td>0</td>\n",
              "      <td>0.4</td>\n",
              "      <td>2</td>\n",
              "      <td>0</td>\n",
              "      <td>0</td>\n",
              "      <td>0</td>\n",
              "      <td>222</td>\n",
              "    </tr>\n",
              "  </tbody>\n",
              "</table>\n",
              "</div>"
            ],
            "text/plain": [
              "   mid        date                  venue  ... striker non-striker total\n",
              "0    1  2008-04-18  M Chinnaswamy Stadium  ...       0           0   222\n",
              "1    1  2008-04-18  M Chinnaswamy Stadium  ...       0           0   222\n",
              "2    1  2008-04-18  M Chinnaswamy Stadium  ...       0           0   222\n",
              "3    1  2008-04-18  M Chinnaswamy Stadium  ...       0           0   222\n",
              "4    1  2008-04-18  M Chinnaswamy Stadium  ...       0           0   222\n",
              "\n",
              "[5 rows x 15 columns]"
            ]
          },
          "metadata": {
            "tags": []
          },
          "execution_count": 26
        }
      ]
    },
    {
      "cell_type": "code",
      "metadata": {
        "id": "tXKKCmpNrapi",
        "colab": {
          "base_uri": "https://localhost:8080/",
          "height": 0
        },
        "outputId": "ba86a2e4-0722-4dfe-9c0e-6f870f4ac5a9"
      },
      "source": [
        "data.info()"
      ],
      "execution_count": 27,
      "outputs": [
        {
          "output_type": "stream",
          "text": [
            "<class 'pandas.core.frame.DataFrame'>\n",
            "RangeIndex: 53502 entries, 0 to 53501\n",
            "Data columns (total 15 columns):\n",
            " #   Column          Non-Null Count  Dtype  \n",
            "---  ------          --------------  -----  \n",
            " 0   mid             53502 non-null  int64  \n",
            " 1   date            53502 non-null  object \n",
            " 2   venue           53502 non-null  object \n",
            " 3   bat_team        53502 non-null  object \n",
            " 4   bowl_team       53502 non-null  object \n",
            " 5   batsman         53502 non-null  object \n",
            " 6   bowler          53502 non-null  object \n",
            " 7   runs            53502 non-null  int64  \n",
            " 8   wickets         53502 non-null  int64  \n",
            " 9   overs           53502 non-null  float64\n",
            " 10  runs_last_5     53502 non-null  int64  \n",
            " 11  wickets_last_5  53502 non-null  int64  \n",
            " 12  striker         53502 non-null  int64  \n",
            " 13  non-striker     53502 non-null  int64  \n",
            " 14  total           53502 non-null  int64  \n",
            "dtypes: float64(1), int64(8), object(6)\n",
            "memory usage: 6.1+ MB\n"
          ],
          "name": "stdout"
        }
      ]
    },
    {
      "cell_type": "code",
      "metadata": {
        "id": "u2ET-EeWrapj",
        "colab": {
          "base_uri": "https://localhost:8080/",
          "height": 308
        },
        "outputId": "d7327d4f-7ab9-48f9-f95c-ecf7fc3b9017"
      },
      "source": [
        "data.describe()"
      ],
      "execution_count": 28,
      "outputs": [
        {
          "output_type": "execute_result",
          "data": {
            "text/html": [
              "<div>\n",
              "<style scoped>\n",
              "    .dataframe tbody tr th:only-of-type {\n",
              "        vertical-align: middle;\n",
              "    }\n",
              "\n",
              "    .dataframe tbody tr th {\n",
              "        vertical-align: top;\n",
              "    }\n",
              "\n",
              "    .dataframe thead th {\n",
              "        text-align: right;\n",
              "    }\n",
              "</style>\n",
              "<table border=\"1\" class=\"dataframe\">\n",
              "  <thead>\n",
              "    <tr style=\"text-align: right;\">\n",
              "      <th></th>\n",
              "      <th>mid</th>\n",
              "      <th>runs</th>\n",
              "      <th>wickets</th>\n",
              "      <th>overs</th>\n",
              "      <th>runs_last_5</th>\n",
              "      <th>wickets_last_5</th>\n",
              "      <th>striker</th>\n",
              "      <th>non-striker</th>\n",
              "      <th>total</th>\n",
              "    </tr>\n",
              "  </thead>\n",
              "  <tbody>\n",
              "    <tr>\n",
              "      <th>count</th>\n",
              "      <td>53502.000000</td>\n",
              "      <td>53502.000000</td>\n",
              "      <td>53502.000000</td>\n",
              "      <td>53502.000000</td>\n",
              "      <td>53502.000000</td>\n",
              "      <td>53502.000000</td>\n",
              "      <td>53502.000000</td>\n",
              "      <td>53502.000000</td>\n",
              "      <td>53502.000000</td>\n",
              "    </tr>\n",
              "    <tr>\n",
              "      <th>mean</th>\n",
              "      <td>217.142256</td>\n",
              "      <td>73.541494</td>\n",
              "      <td>2.439479</td>\n",
              "      <td>9.777423</td>\n",
              "      <td>32.624575</td>\n",
              "      <td>1.123042</td>\n",
              "      <td>24.452656</td>\n",
              "      <td>8.604931</td>\n",
              "      <td>158.445404</td>\n",
              "    </tr>\n",
              "    <tr>\n",
              "      <th>std</th>\n",
              "      <td>125.139875</td>\n",
              "      <td>48.054472</td>\n",
              "      <td>2.021092</td>\n",
              "      <td>5.772374</td>\n",
              "      <td>14.734729</td>\n",
              "      <td>1.050518</td>\n",
              "      <td>19.848411</td>\n",
              "      <td>10.396842</td>\n",
              "      <td>29.231049</td>\n",
              "    </tr>\n",
              "    <tr>\n",
              "      <th>min</th>\n",
              "      <td>1.000000</td>\n",
              "      <td>0.000000</td>\n",
              "      <td>0.000000</td>\n",
              "      <td>0.000000</td>\n",
              "      <td>0.000000</td>\n",
              "      <td>0.000000</td>\n",
              "      <td>0.000000</td>\n",
              "      <td>0.000000</td>\n",
              "      <td>67.000000</td>\n",
              "    </tr>\n",
              "    <tr>\n",
              "      <th>25%</th>\n",
              "      <td>109.000000</td>\n",
              "      <td>34.000000</td>\n",
              "      <td>1.000000</td>\n",
              "      <td>4.600000</td>\n",
              "      <td>24.000000</td>\n",
              "      <td>0.000000</td>\n",
              "      <td>10.000000</td>\n",
              "      <td>1.000000</td>\n",
              "      <td>140.000000</td>\n",
              "    </tr>\n",
              "    <tr>\n",
              "      <th>50%</th>\n",
              "      <td>217.000000</td>\n",
              "      <td>69.000000</td>\n",
              "      <td>2.000000</td>\n",
              "      <td>9.600000</td>\n",
              "      <td>33.000000</td>\n",
              "      <td>1.000000</td>\n",
              "      <td>20.000000</td>\n",
              "      <td>5.000000</td>\n",
              "      <td>159.000000</td>\n",
              "    </tr>\n",
              "    <tr>\n",
              "      <th>75%</th>\n",
              "      <td>325.000000</td>\n",
              "      <td>108.000000</td>\n",
              "      <td>4.000000</td>\n",
              "      <td>14.600000</td>\n",
              "      <td>42.000000</td>\n",
              "      <td>2.000000</td>\n",
              "      <td>35.000000</td>\n",
              "      <td>12.000000</td>\n",
              "      <td>178.000000</td>\n",
              "    </tr>\n",
              "    <tr>\n",
              "      <th>max</th>\n",
              "      <td>434.000000</td>\n",
              "      <td>263.000000</td>\n",
              "      <td>10.000000</td>\n",
              "      <td>19.600000</td>\n",
              "      <td>94.000000</td>\n",
              "      <td>7.000000</td>\n",
              "      <td>175.000000</td>\n",
              "      <td>82.000000</td>\n",
              "      <td>263.000000</td>\n",
              "    </tr>\n",
              "  </tbody>\n",
              "</table>\n",
              "</div>"
            ],
            "text/plain": [
              "                mid          runs  ...   non-striker         total\n",
              "count  53502.000000  53502.000000  ...  53502.000000  53502.000000\n",
              "mean     217.142256     73.541494  ...      8.604931    158.445404\n",
              "std      125.139875     48.054472  ...     10.396842     29.231049\n",
              "min        1.000000      0.000000  ...      0.000000     67.000000\n",
              "25%      109.000000     34.000000  ...      1.000000    140.000000\n",
              "50%      217.000000     69.000000  ...      5.000000    159.000000\n",
              "75%      325.000000    108.000000  ...     12.000000    178.000000\n",
              "max      434.000000    263.000000  ...     82.000000    263.000000\n",
              "\n",
              "[8 rows x 9 columns]"
            ]
          },
          "metadata": {
            "tags": []
          },
          "execution_count": 28
        }
      ]
    },
    {
      "cell_type": "markdown",
      "metadata": {
        "id": "SwiIXeGwrapj"
      },
      "source": [
        "# Exploratory  Data Analysis"
      ]
    },
    {
      "cell_type": "code",
      "metadata": {
        "id": "SfiNZ60Xrapj",
        "colab": {
          "base_uri": "https://localhost:8080/",
          "height": 299
        },
        "outputId": "00ce6b05-68cd-495e-81c9-a6d9e6c4df93"
      },
      "source": [
        "data[data['overs']  == 19.6]['runs_last_5'].hist(bins=40)\n",
        "plt.title('Distribution of Runs Scored in the Overs 15-20')\n",
        "plt.xlabel('Runs')\n",
        "plt.ylabel('Runs Scored')\n",
        "plt.show()"
      ],
      "execution_count": 29,
      "outputs": [
        {
          "output_type": "display_data",
          "data": {
            "image/png": "[encoded data removed]",
            "text/plain": [
              "<Figure size 432x288 with 1 Axes>"
            ]
          },
          "metadata": {
            "tags": []
          }
        }
      ]
    },
    {
      "cell_type": "code",
      "metadata": {
        "id": "3C2r7Lf7rapj",
        "colab": {
          "base_uri": "https://localhost:8080/",
          "height": 299
        },
        "outputId": "378d83ad-17ff-43fa-cbe3-2f414f0c0f34"
      },
      "source": [
        "data[data['overs'] > 4.6]['wickets_last_5'].hist(bins=30)\n",
        "plt.title('Distribution of Wickets lost in the last 5 overs ')\n",
        "plt.xlabel('Wickets')\n",
        "plt.show()"
      ],
      "execution_count": 30,
      "outputs": [
        {
          "output_type": "display_data",
          "data": {
            "image/png": "[encoded data removed]",
            "text/plain": [
              "<Figure size 432x288 with 1 Axes>"
            ]
          },
          "metadata": {
            "tags": []
          }
        }
      ]
    },
    {
      "cell_type": "code",
      "metadata": {
        "id": "hleE_jGOrapj",
        "colab": {
          "base_uri": "https://localhost:8080/",
          "height": 299
        },
        "outputId": "6396b0d7-ac91-49d4-d031-f9556991c926"
      },
      "source": [
        "data.groupby('mid').max()['total'].hist(bins=30)\n",
        "plt.title('Distribution of Total Score of 1st innings')\n",
        "plt.xlabel('Runs')\n",
        "plt.show()"
      ],
      "execution_count": 31,
      "outputs": [
        {
          "output_type": "display_data",
          "data": {
            "image/png": "[encoded data removed]",
            "text/plain": [
              "<Figure size 432x288 with 1 Axes>"
            ]
          },
          "metadata": {
            "tags": []
          }
        }
      ]
    },
    {
      "cell_type": "markdown",
      "metadata": {
        "id": "gw5axvYcrapk"
      },
      "source": [
        ""
      ]
    },
    {
      "cell_type": "code",
      "metadata": {
        "id": "c6Rq-kl_rapk",
        "colab": {
          "base_uri": "https://localhost:8080/",
          "height": 299
        },
        "outputId": "78e1dc22-b50f-4e10-8dcc-ddd0733c17ab"
      },
      "source": [
        "\n",
        "x = data.groupby('bat_team').max()['total'].sort_values().index\n",
        "y = data.groupby('bat_team').max()['total'].sort_values().values\n",
        "plt.plot(y,x)\n",
        "plt.xticks(rotation=0)\n",
        "plt.xlabel('Highest Score')\n",
        "plt.title('Highest Score of each Team')\n",
        "plt.show()"
      ],
      "execution_count": 32,
      "outputs": [
        {
          "output_type": "display_data",
          "data": {
            "image/png": "[encoded data removed]",
            "text/plain": [
              "<Figure size 432x288 with 1 Axes>"
            ]
          },
          "metadata": {
            "tags": []
          }
        }
      ]
    },
    {
      "cell_type": "markdown",
      "metadata": {
        "id": "hNfcYIykrapk"
      },
      "source": [
        "# Data Cleaning\n",
        "## In order to pass the values we need them to be numeric so we will only use numeric columns"
      ]
    },
    {
      "cell_type": "code",
      "metadata": {
        "id": "o2bmqqaurapk",
        "colab": {
          "base_uri": "https://localhost:8080/",
          "height": 0
        },
        "outputId": "0289ba60-c9aa-47fe-ea03-5adab9574fad"
      },
      "source": [
        "data.columns"
      ],
      "execution_count": 33,
      "outputs": [
        {
          "output_type": "execute_result",
          "data": {
            "text/plain": [
              "Index(['mid', 'date', 'venue', 'bat_team', 'bowl_team', 'batsman', 'bowler',\n",
              "       'runs', 'wickets', 'overs', 'runs_last_5', 'wickets_last_5', 'striker',\n",
              "       'non-striker', 'total'],\n",
              "      dtype='object')"
            ]
          },
          "metadata": {
            "tags": []
          },
          "execution_count": 33
        }
      ]
    },
    {
      "cell_type": "code",
      "metadata": {
        "id": "44gWzTwFrapk"
      },
      "source": [
        "clean_df = data[['runs','wickets','overs','runs_last_5','wickets_last_5','striker','non-striker', 'total']]"
      ],
      "execution_count": 34,
      "outputs": []
    },
    {
      "cell_type": "code",
      "metadata": {
        "id": "mdJNP9UPrapk",
        "colab": {
          "base_uri": "https://localhost:8080/",
          "height": 198
        },
        "outputId": "8b190efe-9064-48d0-b817-b6c7a49fed23"
      },
      "source": [
        "clean_df.head()"
      ],
      "execution_count": 35,
      "outputs": [
        {
          "output_type": "execute_result",
          "data": {
            "text/html": [
              "<div>\n",
              "<style scoped>\n",
              "    .dataframe tbody tr th:only-of-type {\n",
              "        vertical-align: middle;\n",
              "    }\n",
              "\n",
              "    .dataframe tbody tr th {\n",
              "        vertical-align: top;\n",
              "    }\n",
              "\n",
              "    .dataframe thead th {\n",
              "        text-align: right;\n",
              "    }\n",
              "</style>\n",
              "<table border=\"1\" class=\"dataframe\">\n",
              "  <thead>\n",
              "    <tr style=\"text-align: right;\">\n",
              "      <th></th>\n",
              "      <th>runs</th>\n",
              "      <th>wickets</th>\n",
              "      <th>overs</th>\n",
              "      <th>runs_last_5</th>\n",
              "      <th>wickets_last_5</th>\n",
              "      <th>striker</th>\n",
              "      <th>non-striker</th>\n",
              "      <th>total</th>\n",
              "    </tr>\n",
              "  </thead>\n",
              "  <tbody>\n",
              "    <tr>\n",
              "      <th>0</th>\n",
              "      <td>1</td>\n",
              "      <td>0</td>\n",
              "      <td>0.1</td>\n",
              "      <td>1</td>\n",
              "      <td>0</td>\n",
              "      <td>0</td>\n",
              "      <td>0</td>\n",
              "      <td>222</td>\n",
              "    </tr>\n",
              "    <tr>\n",
              "      <th>1</th>\n",
              "      <td>1</td>\n",
              "      <td>0</td>\n",
              "      <td>0.2</td>\n",
              "      <td>1</td>\n",
              "      <td>0</td>\n",
              "      <td>0</td>\n",
              "      <td>0</td>\n",
              "      <td>222</td>\n",
              "    </tr>\n",
              "    <tr>\n",
              "      <th>2</th>\n",
              "      <td>2</td>\n",
              "      <td>0</td>\n",
              "      <td>0.2</td>\n",
              "      <td>2</td>\n",
              "      <td>0</td>\n",
              "      <td>0</td>\n",
              "      <td>0</td>\n",
              "      <td>222</td>\n",
              "    </tr>\n",
              "    <tr>\n",
              "      <th>3</th>\n",
              "      <td>2</td>\n",
              "      <td>0</td>\n",
              "      <td>0.3</td>\n",
              "      <td>2</td>\n",
              "      <td>0</td>\n",
              "      <td>0</td>\n",
              "      <td>0</td>\n",
              "      <td>222</td>\n",
              "    </tr>\n",
              "    <tr>\n",
              "      <th>4</th>\n",
              "      <td>2</td>\n",
              "      <td>0</td>\n",
              "      <td>0.4</td>\n",
              "      <td>2</td>\n",
              "      <td>0</td>\n",
              "      <td>0</td>\n",
              "      <td>0</td>\n",
              "      <td>222</td>\n",
              "    </tr>\n",
              "  </tbody>\n",
              "</table>\n",
              "</div>"
            ],
            "text/plain": [
              "   runs  wickets  overs  ...  striker  non-striker  total\n",
              "0     1        0    0.1  ...        0            0    222\n",
              "1     1        0    0.2  ...        0            0    222\n",
              "2     2        0    0.2  ...        0            0    222\n",
              "3     2        0    0.3  ...        0            0    222\n",
              "4     2        0    0.4  ...        0            0    222\n",
              "\n",
              "[5 rows x 8 columns]"
            ]
          },
          "metadata": {
            "tags": []
          },
          "execution_count": 35
        }
      ]
    },
    {
      "cell_type": "markdown",
      "metadata": {
        "id": "MSvLw5yHrapk"
      },
      "source": [
        "# Deciding the Features and Labels and Splitting them into training and testing data"
      ]
    },
    {
      "cell_type": "code",
      "metadata": {
        "id": "63a79ZVtrapk"
      },
      "source": [
        "from sklearn.model_selection import train_test_split\n",
        "X = clean_df.drop('total',axis=1)\n",
        "y = clean_df['total']\n",
        "\n",
        "\n",
        "X_train, X_test, y_train, y_test = train_test_split(X, y, test_size=0.3, random_state=101)"
      ],
      "execution_count": 36,
      "outputs": []
    },
    {
      "cell_type": "markdown",
      "metadata": {
        "id": "l7jZYQRerapk"
      },
      "source": [
        "# Creating a model and training the model\n",
        "## Linear Model"
      ]
    },
    {
      "cell_type": "code",
      "metadata": {
        "id": "kk_EJUrMrapk",
        "colab": {
          "base_uri": "https://localhost:8080/",
          "height": 0
        },
        "outputId": "63ea690a-ae23-4012-e046-5d68f1a433b6"
      },
      "source": [
        "from sklearn.linear_model import LinearRegression\n",
        "\n",
        "linmodel = LinearRegression()\n",
        "\n",
        "linmodel.fit(X_train,y_train)"
      ],
      "execution_count": 37,
      "outputs": [
        {
          "output_type": "execute_result",
          "data": {
            "text/plain": [
              "LinearRegression(copy_X=True, fit_intercept=True, n_jobs=None, normalize=False)"
            ]
          },
          "metadata": {
            "tags": []
          },
          "execution_count": 37
        }
      ]
    },
    {
      "cell_type": "markdown",
      "metadata": {
        "id": "wS1JcK-Prapk"
      },
      "source": [
        "# Predicting from the Model using training Data"
      ]
    },
    {
      "cell_type": "code",
      "metadata": {
        "id": "CtpVDzq1rapk",
        "colab": {
          "base_uri": "https://localhost:8080/",
          "height": 0
        },
        "outputId": "fa59468b-7c7e-4167-8a2e-b0755beba53c"
      },
      "source": [
        "predictions = linmodel.predict(X_test)\n",
        "b = linmodel.intercept_\n",
        "print(f\"Y = {b} + {linmodel.coef_[0]}*runs + {linmodel.coef_[1]}*wickets + {linmodel.coef_[2]}*overs ........\")"
      ],
      "execution_count": 38,
      "outputs": [
        {
          "output_type": "stream",
          "text": [
            "Y = 158.82075862170595 + 0.9453911256684701*runs + -4.521135518142718*wickets + -6.081669569804779*overs ........\n"
          ],
          "name": "stdout"
        }
      ]
    },
    {
      "cell_type": "code",
      "metadata": {
        "id": "D7Yo0Yukrapk",
        "colab": {
          "base_uri": "https://localhost:8080/",
          "height": 258
        },
        "outputId": "0c5ec91a-211a-4c03-a1ae-a696f5b7f3c5"
      },
      "source": [
        "coeffecient_df = pd.DataFrame(linmodel.coef_,X.columns,columns=['Coeffecient'])\n",
        "coeffecient_df"
      ],
      "execution_count": 39,
      "outputs": [
        {
          "output_type": "execute_result",
          "data": {
            "text/html": [
              "<div>\n",
              "<style scoped>\n",
              "    .dataframe tbody tr th:only-of-type {\n",
              "        vertical-align: middle;\n",
              "    }\n",
              "\n",
              "    .dataframe tbody tr th {\n",
              "        vertical-align: top;\n",
              "    }\n",
              "\n",
              "    .dataframe thead th {\n",
              "        text-align: right;\n",
              "    }\n",
              "</style>\n",
              "<table border=\"1\" class=\"dataframe\">\n",
              "  <thead>\n",
              "    <tr style=\"text-align: right;\">\n",
              "      <th></th>\n",
              "      <th>Coeffecient</th>\n",
              "    </tr>\n",
              "  </thead>\n",
              "  <tbody>\n",
              "    <tr>\n",
              "      <th>runs</th>\n",
              "      <td>0.945391</td>\n",
              "    </tr>\n",
              "    <tr>\n",
              "      <th>wickets</th>\n",
              "      <td>-4.521136</td>\n",
              "    </tr>\n",
              "    <tr>\n",
              "      <th>overs</th>\n",
              "      <td>-6.081670</td>\n",
              "    </tr>\n",
              "    <tr>\n",
              "      <th>runs_last_5</th>\n",
              "      <td>0.109225</td>\n",
              "    </tr>\n",
              "    <tr>\n",
              "      <th>wickets_last_5</th>\n",
              "      <td>-1.988837</td>\n",
              "    </tr>\n",
              "    <tr>\n",
              "      <th>striker</th>\n",
              "      <td>0.003388</td>\n",
              "    </tr>\n",
              "    <tr>\n",
              "      <th>non-striker</th>\n",
              "      <td>-0.107933</td>\n",
              "    </tr>\n",
              "  </tbody>\n",
              "</table>\n",
              "</div>"
            ],
            "text/plain": [
              "                Coeffecient\n",
              "runs               0.945391\n",
              "wickets           -4.521136\n",
              "overs             -6.081670\n",
              "runs_last_5        0.109225\n",
              "wickets_last_5    -1.988837\n",
              "striker            0.003388\n",
              "non-striker       -0.107933"
            ]
          },
          "metadata": {
            "tags": []
          },
          "execution_count": 39
        }
      ]
    },
    {
      "cell_type": "code",
      "metadata": {
        "id": "Yiq1n25urapk",
        "colab": {
          "base_uri": "https://localhost:8080/",
          "height": 0
        },
        "outputId": "40ac6562-a82c-4bbe-d68c-c34466599683"
      },
      "source": [
        "R_square_value = linmodel.score(X_test,y_test)\n",
        "R_square_value"
      ],
      "execution_count": 40,
      "outputs": [
        {
          "output_type": "execute_result",
          "data": {
            "text/plain": [
              "0.5166897401657116"
            ]
          },
          "metadata": {
            "tags": []
          },
          "execution_count": 40
        }
      ]
    },
    {
      "cell_type": "code",
      "metadata": {
        "id": "-ScLgyherapk",
        "colab": {
          "base_uri": "https://localhost:8080/",
          "height": 0
        },
        "outputId": "2d6159f3-25db-4e2d-9e9a-6e148369344c"
      },
      "source": [
        "custom_input = [145,4,16,45,2,23,67]\n",
        "\n",
        "custom_output = print(round(*linmodel.predict(np.array([custom_input]))))"
      ],
      "execution_count": 41,
      "outputs": [
        {
          "output_type": "stream",
          "text": [
            "174.0\n"
          ],
          "name": "stdout"
        }
      ]
    },
    {
      "cell_type": "code",
      "metadata": {
        "colab": {
          "base_uri": "https://localhost:8080/",
          "height": 0
        },
        "id": "5qAAxmUpDU8e",
        "outputId": "87d0ce76-1fce-4f3e-e66d-0f42da591ce3"
      },
      "source": [
        "from sklearn.metrics import mean_absolute_error,mean_squared_error\n",
        "\n",
        "print(f\"MAE : {mean_absolute_error(y_test,predictions)}\\n\")\n",
        "print(f\"MSE : {mean_squared_error(y_test,predictions)}\\n\")\n",
        "print(f\"RMSE : {np.sqrt(mean_squared_error(y_test,predictions))}\")"
      ],
      "execution_count": 42,
      "outputs": [
        {
          "output_type": "stream",
          "text": [
            "MAE : 15.124107679762677\n",
            "\n",
            "MSE : 411.7337449374392\n",
            "\n",
            "RMSE : 20.291223347483\n"
          ],
          "name": "stdout"
        }
      ]
    },
    {
      "cell_type": "markdown",
      "metadata": {
        "id": "Y1LrSTcIrapl"
      },
      "source": [
        "## Decision Tree Regressor"
      ]
    },
    {
      "cell_type": "code",
      "metadata": {
        "id": "sqLN75Njrapl"
      },
      "source": [
        "from sklearn.tree import DecisionTreeRegressor"
      ],
      "execution_count": 43,
      "outputs": []
    },
    {
      "cell_type": "code",
      "metadata": {
        "id": "e8tYyolErapl"
      },
      "source": [
        "def score(max_depth):\n",
        "    '''\\\n",
        "        This will be returning the score for every max depth value\n",
        "    '''\n",
        "    dtr = DecisionTreeRegressor(max_depth=max_depth)\n",
        "    dtr.fit(X_train,y_train)\n",
        "    return dtr.score(X_test,y_test)"
      ],
      "execution_count": 44,
      "outputs": []
    },
    {
      "cell_type": "code",
      "metadata": {
        "id": "_msw4h_trapl"
      },
      "source": [
        "depth_list = [i for i in range(2,101,2)]\n",
        "score_list = []\n",
        "\n",
        "for i in depth_list:\n",
        "    score_list.append(score(i))\n",
        "    \n"
      ],
      "execution_count": 45,
      "outputs": []
    },
    {
      "cell_type": "code",
      "metadata": {
        "id": "8-v_MtGkrapl",
        "colab": {
          "base_uri": "https://localhost:8080/",
          "height": 198
        },
        "outputId": "eaecc226-a99b-4485-e5c8-e9616577db39"
      },
      "source": [
        "score_depth_df = pd.DataFrame(dict(MaxDepth=depth_list,Score=score_list))\n",
        "score_depth_df.head()"
      ],
      "execution_count": 46,
      "outputs": [
        {
          "output_type": "execute_result",
          "data": {
            "text/html": [
              "<div>\n",
              "<style scoped>\n",
              "    .dataframe tbody tr th:only-of-type {\n",
              "        vertical-align: middle;\n",
              "    }\n",
              "\n",
              "    .dataframe tbody tr th {\n",
              "        vertical-align: top;\n",
              "    }\n",
              "\n",
              "    .dataframe thead th {\n",
              "        text-align: right;\n",
              "    }\n",
              "</style>\n",
              "<table border=\"1\" class=\"dataframe\">\n",
              "  <thead>\n",
              "    <tr style=\"text-align: right;\">\n",
              "      <th></th>\n",
              "      <th>MaxDepth</th>\n",
              "      <th>Score</th>\n",
              "    </tr>\n",
              "  </thead>\n",
              "  <tbody>\n",
              "    <tr>\n",
              "      <th>0</th>\n",
              "      <td>2</td>\n",
              "      <td>0.235989</td>\n",
              "    </tr>\n",
              "    <tr>\n",
              "      <th>1</th>\n",
              "      <td>4</td>\n",
              "      <td>0.352383</td>\n",
              "    </tr>\n",
              "    <tr>\n",
              "      <th>2</th>\n",
              "      <td>6</td>\n",
              "      <td>0.445237</td>\n",
              "    </tr>\n",
              "    <tr>\n",
              "      <th>3</th>\n",
              "      <td>8</td>\n",
              "      <td>0.498899</td>\n",
              "    </tr>\n",
              "    <tr>\n",
              "      <th>4</th>\n",
              "      <td>10</td>\n",
              "      <td>0.537486</td>\n",
              "    </tr>\n",
              "  </tbody>\n",
              "</table>\n",
              "</div>"
            ],
            "text/plain": [
              "   MaxDepth     Score\n",
              "0         2  0.235989\n",
              "1         4  0.352383\n",
              "2         6  0.445237\n",
              "3         8  0.498899\n",
              "4        10  0.537486"
            ]
          },
          "metadata": {
            "tags": []
          },
          "execution_count": 46
        }
      ]
    },
    {
      "cell_type": "code",
      "metadata": {
        "id": "RS_QHY1urapl",
        "colab": {
          "base_uri": "https://localhost:8080/",
          "height": 299
        },
        "outputId": "1321dfd6-fa15-41bf-ed6c-d5b3778406ab"
      },
      "source": [
        "sns.lineplot(data=score_depth_df,y='Score',x='MaxDepth')\n",
        "plt.title('Score vs Max_Depth')\n",
        "plt.xlabel('Score')\n",
        "plt.ylabel('Max_Depth')\n",
        "plt.xticks(np.arange(0,101,5))\n",
        "plt.show()\n",
        "\n"
      ],
      "execution_count": 47,
      "outputs": [
        {
          "output_type": "display_data",
          "data": {
            "image/png": "[encoded data removed]",
            "text/plain": [
              "<Figure size 432x288 with 1 Axes>"
            ]
          },
          "metadata": {
            "tags": []
          }
        }
      ]
    },
    {
      "cell_type": "code",
      "metadata": {
        "colab": {
          "base_uri": "https://localhost:8080/",
          "height": 0
        },
        "id": "C6VqWA4wFqd_",
        "outputId": "1100325f-27fc-4e06-8c2f-57afaee1bef0"
      },
      "source": [
        "dtr = DecisionTreeRegressor(max_depth=16)\n",
        "\n",
        "dtr.fit(X_train,y_train)\n",
        "predictions = dtr.predict(X_test)\n",
        "\n",
        "print(f\"MAE : {mean_absolute_error(y_test,predictions)}\\n\")\n",
        "print(f\"MSE : {mean_squared_error(y_test,predictions)}\\n\")\n",
        "print(f\"RMSE : {np.sqrt(mean_squared_error(y_test,predictions))}\")\n"
      ],
      "execution_count": 48,
      "outputs": [
        {
          "output_type": "stream",
          "text": [
            "MAE : 11.921099421398251\n",
            "\n",
            "MSE : 368.66307090651264\n",
            "\n",
            "RMSE : 19.200600795457227\n"
          ],
          "name": "stdout"
        }
      ]
    },
    {
      "cell_type": "code",
      "metadata": {
        "colab": {
          "base_uri": "https://localhost:8080/",
          "height": 0
        },
        "id": "qT55ZXlWHd2T",
        "outputId": "36ce4f9f-7cf7-4d48-89b9-7f699a76a8ea"
      },
      "source": [
        "custom_input_dtr = [145,4,16,45,2,23,67]\n",
        "custom_output_dtr = dtr.predict(np.array([custom_input_dtr]))\n",
        "custom_output_dtr"
      ],
      "execution_count": 49,
      "outputs": [
        {
          "output_type": "execute_result",
          "data": {
            "text/plain": [
              "array([185.])"
            ]
          },
          "metadata": {
            "tags": []
          },
          "execution_count": 49
        }
      ]
    },
    {
      "cell_type": "markdown",
      "metadata": {
        "id": "9iYTTgc2rapl"
      },
      "source": [
        "## Random Forest Regressor"
      ]
    },
    {
      "cell_type": "code",
      "metadata": {
        "id": "l-RHpnpZrapl"
      },
      "source": [
        "from sklearn.ensemble import RandomForestRegressor"
      ],
      "execution_count": 50,
      "outputs": []
    },
    {
      "cell_type": "code",
      "metadata": {
        "id": "6Z6Vranqrapl"
      },
      "source": [
        "def SCORE(max_depth):\n",
        "    rfr = RandomForestRegressor(max_depth=max_depth)\n",
        "    rfr.fit(X_train,y_train)\n",
        "    return rfr.score(X_train,y_train)\n",
        "    "
      ],
      "execution_count": 51,
      "outputs": []
    },
    {
      "cell_type": "code",
      "metadata": {
        "id": "OKFfqBx3rapl"
      },
      "source": [
        "DEPTH_LIST = [i for i in range(2,101,2)]\n",
        "\n",
        "SCORE_LIST = []\n",
        "\n",
        "for i in DEPTH_LIST:\n",
        "    SCORE_LIST.append(SCORE(i))"
      ],
      "execution_count": 52,
      "outputs": []
    },
    {
      "cell_type": "code",
      "metadata": {
        "id": "H4-4Zx9Vrapl",
        "colab": {
          "base_uri": "https://localhost:8080/",
          "height": 299
        },
        "outputId": "5bb0de09-5eea-4b29-bf69-c12d732b5dfd"
      },
      "source": [
        "score_depth_df = pd.DataFrame(dict(MaxDepth=DEPTH_LIST,Score=SCORE_LIST))\n",
        "\n",
        "sns.lineplot(data=score_depth_df,y='Score',x='MaxDepth')\n",
        "plt.title('Score vs Max_Depth')\n",
        "plt.xlabel('Score')\n",
        "plt.ylabel('Max_Depth')\n",
        "plt.xticks(np.arange(0,101,5))\n",
        "plt.show()"
      ],
      "execution_count": 53,
      "outputs": [
        {
          "output_type": "display_data",
          "data": {
            "image/png": "[encoded data removed]",
            "text/plain": [
              "<Figure size 432x288 with 1 Axes>"
            ]
          },
          "metadata": {
            "tags": []
          }
        }
      ]
    },
    {
      "cell_type": "code",
      "metadata": {
        "id": "-p31WnYurapl",
        "colab": {
          "base_uri": "https://localhost:8080/",
          "height": 0
        },
        "outputId": "550d9774-de08-41e9-b9b6-6a64c7d047fa"
      },
      "source": [
        "rfr = RandomForestRegressor(max_depth=92)\n",
        "rfr.fit(X_train,y_train)\n"
      ],
      "execution_count": 54,
      "outputs": [
        {
          "output_type": "execute_result",
          "data": {
            "text/plain": [
              "RandomForestRegressor(bootstrap=True, ccp_alpha=0.0, criterion='mse',\n",
              "                      max_depth=92, max_features='auto', max_leaf_nodes=None,\n",
              "                      max_samples=None, min_impurity_decrease=0.0,\n",
              "                      min_impurity_split=None, min_samples_leaf=1,\n",
              "                      min_samples_split=2, min_weight_fraction_leaf=0.0,\n",
              "                      n_estimators=100, n_jobs=None, oob_score=False,\n",
              "                      random_state=None, verbose=0, warm_start=False)"
            ]
          },
          "metadata": {
            "tags": []
          },
          "execution_count": 54
        }
      ]
    },
    {
      "cell_type": "code",
      "metadata": {
        "colab": {
          "base_uri": "https://localhost:8080/",
          "height": 0
        },
        "id": "I4Hy9CgDHy_h",
        "outputId": "9748e060-b7bb-42b4-f411-685c9e301492"
      },
      "source": [
        "predictions = rfr.predict(X_test)\n",
        "\n",
        "print(f\"MAE : {mean_absolute_error(y_test,predictions)}\\n\")\n",
        "print(f\"MSE : {mean_squared_error(y_test,predictions)}\\n\")\n",
        "print(f\"RMSE : {np.sqrt(mean_squared_error(y_test,predictions))}\")"
      ],
      "execution_count": 55,
      "outputs": [
        {
          "output_type": "stream",
          "text": [
            "MAE : 10.022772413477698\n",
            "\n",
            "MSE : 245.43149070341224\n",
            "\n",
            "RMSE : 15.66625324394484\n"
          ],
          "name": "stdout"
        }
      ]
    },
    {
      "cell_type": "code",
      "metadata": {
        "id": "R-VmyuACrapl",
        "colab": {
          "base_uri": "https://localhost:8080/",
          "height": 0
        },
        "outputId": "b5dc8d79-31be-4b45-e663-9bbf2289c666"
      },
      "source": [
        "custom_input_rfr = [145,4,16,45,2,23,67]\n",
        "custom_output_rfr = rfr.predict(np.array([custom_input_rfr]))\n",
        "custom_output_rfr"
      ],
      "execution_count": 56,
      "outputs": [
        {
          "output_type": "execute_result",
          "data": {
            "text/plain": [
              "array([183.8])"
            ]
          },
          "metadata": {
            "tags": []
          },
          "execution_count": 56
        }
      ]
    },
    {
      "cell_type": "code",
      "metadata": {
        "id": "ESW_DtjOrapl"
      },
      "source": [
        ""
      ],
      "execution_count": 56,
      "outputs": []
    }
  ]
}